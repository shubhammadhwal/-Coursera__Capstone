{
    "nbformat_minor": 1, 
    "cells": [
        {
            "execution_count": 6, 
            "cell_type": "code", 
            "metadata": {}, 
            "outputs": [], 
            "source": "import urllib.request, urllib.parse, urllib.error\nfrom urllib.request import urlopen\nfrom bs4 import BeautifulSoup\nimport ssl\nimport re"
        }, 
        {
            "execution_count": 7, 
            "cell_type": "code", 
            "metadata": {}, 
            "outputs": [], 
            "source": "cntxt = ssl.create_default_context()\ncntxt.check_hostname = False\ncntxt.verify_mode = ssl.CERT_NONE"
        }, 
        {
            "execution_count": 8, 
            "cell_type": "code", 
            "metadata": {
                "scrolled": true
            }, 
            "outputs": [
                {
                    "output_type": "stream", 
                    "name": "stdout", 
                    "text": "Please enter the website to obtain data from:  https://en.wikipedia.org/wiki/List_of_postal_codes_of_Canada:_M \n"
                }
            ], 
            "source": "\nurl = input('Please enter the website to obtain data from: ')\nif len(url) < 1: url = 'https://en.wikipedia.org/wiki/List_of_postal_codes_of_Canada:_M'"
        }, 
        {
            "execution_count": 9, 
            "cell_type": "code", 
            "metadata": {}, 
            "outputs": [], 
            "source": "\n#Use a file-handle like object to open the url\nhtml = urlopen(url, context= cntxt).read() #Read slurps everything in #Note that is additional function written at end\n\n#Use BeautifulSoup to parse\nsoup = BeautifulSoup(html, 'html.parser')"
        }, 
        {
            "execution_count": 10, 
            "cell_type": "code", 
            "metadata": {}, 
            "outputs": [
                {
                    "execution_count": 10, 
                    "metadata": {}, 
                    "data": {
                        "text/plain": "bs4.BeautifulSoup"
                    }, 
                    "output_type": "execute_result"
                }
            ], 
            "source": "type(soup)"
        }, 
        {
            "execution_count": 11, 
            "cell_type": "code", 
            "metadata": {}, 
            "outputs": [
                {
                    "output_type": "stream", 
                    "name": "stdout", 
                    "text": "Total tags extracted:  294 \n\n\nTotal post-codes with borough info: 103\n"
                }
            ], 
            "source": "#Try retrieving 'tr' tags\n#print(soup)\ntags = soup('tr')\nprint('Total tags extracted: ', len(tags),'\\n')\n\n#Look at the tag extracted\ncount = 0 #Initialise counter to count iterations & if rqd, help break out of loop\ndict = {} #Initialise empty dictionary to store postcode as KEY, boroughs and neighbourhoods as VALUES\nlist = [] #Initialise empty list to hold the borough + neighbourhood info\n\n#Loop through the tags\nfor i in tags:\n    count = count + 1 #Increase counter value beginning through each iteration\n    if count == 290: break #For limiting output and stopping the loop from running + length of tags for some reason does not correspond to actual number of elements\n    \n    #Skip if Borough is Not Assigned\n    if i.contents[3].text == 'Not assigned':\n        continue\n        \n    #Skip if text is Postcode\n    if i.contents[1].text == 'Postcode':\n        continue\n    \n    #If pincode already exists, eg M5A, M6A, append new data\n    if i.contents[1].text in dict: \n        \n        # Append the new data to the existing array at this slot with the following NEW SYNTAX\n        #dict[existing_key].append(value)\n        dict[i.contents[1].text].append(i.contents[5].text.rstrip())\n        \n    #If borough exists but not the neighbourhood, run the following    \n    elif re.search('[a-z]', i.contents[3].text) and re.search('No.*', i.contents[5].text):\n        list.append(i.contents[3].text), list.append(i.contents[3].text)\n        dict[i.contents[1].text] = list\n    else:\n        list.append(i.contents[3].text)\n        list.append(i.contents[5].text.rstrip())#rstrip gets rid of newline char.\n        dict[i.contents[1].text] = list\n    \n    #Would need to reset the list to empty after each round otherwise each successive iteration will bloat up the key-value\n    list = []\n    \n\n#print(dict)\n\nprint('\\nTotal post-codes with borough info:', len(dict))"
        }, 
        {
            "execution_count": 12, 
            "cell_type": "code", 
            "metadata": {}, 
            "outputs": [], 
            "source": "import pandas as pd"
        }, 
        {
            "execution_count": 13, 
            "cell_type": "code", 
            "metadata": {}, 
            "outputs": [], 
            "source": "data = pd.DataFrame.from_dict(dict, orient= 'index')"
        }, 
        {
            "execution_count": 14, 
            "cell_type": "code", 
            "metadata": {}, 
            "outputs": [
                {
                    "execution_count": 14, 
                    "metadata": {}, 
                    "data": {
                        "text/html": "<div>\n<style scoped>\n    .dataframe tbody tr th:only-of-type {\n        vertical-align: middle;\n    }\n\n    .dataframe tbody tr th {\n        vertical-align: top;\n    }\n\n    .dataframe thead th {\n        text-align: right;\n    }\n</style>\n<table border=\"1\" class=\"dataframe\">\n  <thead>\n    <tr style=\"text-align: right;\">\n      <th></th>\n      <th>0</th>\n      <th>1</th>\n      <th>2</th>\n      <th>3</th>\n      <th>4</th>\n      <th>5</th>\n      <th>6</th>\n      <th>7</th>\n      <th>8</th>\n    </tr>\n  </thead>\n  <tbody>\n    <tr>\n      <th>M3A</th>\n      <td>North York</td>\n      <td>Parkwoods</td>\n      <td>None</td>\n      <td>None</td>\n      <td>None</td>\n      <td>None</td>\n      <td>None</td>\n      <td>None</td>\n      <td>None</td>\n    </tr>\n    <tr>\n      <th>M4A</th>\n      <td>North York</td>\n      <td>Victoria Village</td>\n      <td>None</td>\n      <td>None</td>\n      <td>None</td>\n      <td>None</td>\n      <td>None</td>\n      <td>None</td>\n      <td>None</td>\n    </tr>\n    <tr>\n      <th>M5A</th>\n      <td>Downtown Toronto</td>\n      <td>Harbourfront</td>\n      <td>Regent Park</td>\n      <td>None</td>\n      <td>None</td>\n      <td>None</td>\n      <td>None</td>\n      <td>None</td>\n      <td>None</td>\n    </tr>\n    <tr>\n      <th>M6A</th>\n      <td>North York</td>\n      <td>Lawrence Heights</td>\n      <td>Lawrence Manor</td>\n      <td>None</td>\n      <td>None</td>\n      <td>None</td>\n      <td>None</td>\n      <td>None</td>\n      <td>None</td>\n    </tr>\n    <tr>\n      <th>M7A</th>\n      <td>Queen's Park</td>\n      <td>Queen's Park</td>\n      <td>None</td>\n      <td>None</td>\n      <td>None</td>\n      <td>None</td>\n      <td>None</td>\n      <td>None</td>\n      <td>None</td>\n    </tr>\n  </tbody>\n</table>\n</div>", 
                        "text/plain": "                    0                 1               2     3     4     5  \\\nM3A        North York         Parkwoods            None  None  None  None   \nM4A        North York  Victoria Village            None  None  None  None   \nM5A  Downtown Toronto      Harbourfront     Regent Park  None  None  None   \nM6A        North York  Lawrence Heights  Lawrence Manor  None  None  None   \nM7A      Queen's Park      Queen's Park            None  None  None  None   \n\n        6     7     8  \nM3A  None  None  None  \nM4A  None  None  None  \nM5A  None  None  None  \nM6A  None  None  None  \nM7A  None  None  None  "
                    }, 
                    "output_type": "execute_result"
                }
            ], 
            "source": "data.head()"
        }, 
        {
            "execution_count": 15, 
            "cell_type": "code", 
            "metadata": {}, 
            "outputs": [
                {
                    "execution_count": 15, 
                    "metadata": {}, 
                    "data": {
                        "text/html": "<div>\n<style scoped>\n    .dataframe tbody tr th:only-of-type {\n        vertical-align: middle;\n    }\n\n    .dataframe tbody tr th {\n        vertical-align: top;\n    }\n\n    .dataframe thead th {\n        text-align: right;\n    }\n</style>\n<table border=\"1\" class=\"dataframe\">\n  <thead>\n    <tr style=\"text-align: right;\">\n      <th></th>\n      <th>0</th>\n      <th>1</th>\n      <th>2</th>\n      <th>3</th>\n      <th>4</th>\n      <th>5</th>\n      <th>6</th>\n      <th>7</th>\n      <th>8</th>\n    </tr>\n    <tr>\n      <th>PostalCode</th>\n      <th></th>\n      <th></th>\n      <th></th>\n      <th></th>\n      <th></th>\n      <th></th>\n      <th></th>\n      <th></th>\n      <th></th>\n    </tr>\n  </thead>\n  <tbody>\n    <tr>\n      <th>M3A</th>\n      <td>North York</td>\n      <td>Parkwoods</td>\n      <td>None</td>\n      <td>None</td>\n      <td>None</td>\n      <td>None</td>\n      <td>None</td>\n      <td>None</td>\n      <td>None</td>\n    </tr>\n    <tr>\n      <th>M4A</th>\n      <td>North York</td>\n      <td>Victoria Village</td>\n      <td>None</td>\n      <td>None</td>\n      <td>None</td>\n      <td>None</td>\n      <td>None</td>\n      <td>None</td>\n      <td>None</td>\n    </tr>\n    <tr>\n      <th>M5A</th>\n      <td>Downtown Toronto</td>\n      <td>Harbourfront</td>\n      <td>Regent Park</td>\n      <td>None</td>\n      <td>None</td>\n      <td>None</td>\n      <td>None</td>\n      <td>None</td>\n      <td>None</td>\n    </tr>\n    <tr>\n      <th>M6A</th>\n      <td>North York</td>\n      <td>Lawrence Heights</td>\n      <td>Lawrence Manor</td>\n      <td>None</td>\n      <td>None</td>\n      <td>None</td>\n      <td>None</td>\n      <td>None</td>\n      <td>None</td>\n    </tr>\n    <tr>\n      <th>M7A</th>\n      <td>Queen's Park</td>\n      <td>Queen's Park</td>\n      <td>None</td>\n      <td>None</td>\n      <td>None</td>\n      <td>None</td>\n      <td>None</td>\n      <td>None</td>\n      <td>None</td>\n    </tr>\n  </tbody>\n</table>\n</div>", 
                        "text/plain": "                           0                 1               2     3     4  \\\nPostalCode                                                                   \nM3A               North York         Parkwoods            None  None  None   \nM4A               North York  Victoria Village            None  None  None   \nM5A         Downtown Toronto      Harbourfront     Regent Park  None  None   \nM6A               North York  Lawrence Heights  Lawrence Manor  None  None   \nM7A             Queen's Park      Queen's Park            None  None  None   \n\n               5     6     7     8  \nPostalCode                          \nM3A         None  None  None  None  \nM4A         None  None  None  None  \nM5A         None  None  None  None  \nM6A         None  None  None  None  \nM7A         None  None  None  None  "
                    }, 
                    "output_type": "execute_result"
                }
            ], 
            "source": "data.index.name = 'PostalCode'\ndata.head()"
        }, 
        {
            "execution_count": 16, 
            "cell_type": "code", 
            "metadata": {}, 
            "outputs": [
                {
                    "execution_count": 16, 
                    "metadata": {}, 
                    "data": {
                        "text/html": "<div>\n<style scoped>\n    .dataframe tbody tr th:only-of-type {\n        vertical-align: middle;\n    }\n\n    .dataframe tbody tr th {\n        vertical-align: top;\n    }\n\n    .dataframe thead th {\n        text-align: right;\n    }\n</style>\n<table border=\"1\" class=\"dataframe\">\n  <thead>\n    <tr style=\"text-align: right;\">\n      <th></th>\n      <th>PostalCode</th>\n      <th>0</th>\n      <th>1</th>\n      <th>2</th>\n      <th>3</th>\n      <th>4</th>\n      <th>5</th>\n      <th>6</th>\n      <th>7</th>\n      <th>8</th>\n    </tr>\n  </thead>\n  <tbody>\n    <tr>\n      <th>0</th>\n      <td>M3A</td>\n      <td>North York</td>\n      <td>Parkwoods</td>\n      <td>None</td>\n      <td>None</td>\n      <td>None</td>\n      <td>None</td>\n      <td>None</td>\n      <td>None</td>\n      <td>None</td>\n    </tr>\n    <tr>\n      <th>1</th>\n      <td>M4A</td>\n      <td>North York</td>\n      <td>Victoria Village</td>\n      <td>None</td>\n      <td>None</td>\n      <td>None</td>\n      <td>None</td>\n      <td>None</td>\n      <td>None</td>\n      <td>None</td>\n    </tr>\n    <tr>\n      <th>2</th>\n      <td>M5A</td>\n      <td>Downtown Toronto</td>\n      <td>Harbourfront</td>\n      <td>Regent Park</td>\n      <td>None</td>\n      <td>None</td>\n      <td>None</td>\n      <td>None</td>\n      <td>None</td>\n      <td>None</td>\n    </tr>\n    <tr>\n      <th>3</th>\n      <td>M6A</td>\n      <td>North York</td>\n      <td>Lawrence Heights</td>\n      <td>Lawrence Manor</td>\n      <td>None</td>\n      <td>None</td>\n      <td>None</td>\n      <td>None</td>\n      <td>None</td>\n      <td>None</td>\n    </tr>\n    <tr>\n      <th>4</th>\n      <td>M7A</td>\n      <td>Queen's Park</td>\n      <td>Queen's Park</td>\n      <td>None</td>\n      <td>None</td>\n      <td>None</td>\n      <td>None</td>\n      <td>None</td>\n      <td>None</td>\n      <td>None</td>\n    </tr>\n  </tbody>\n</table>\n</div>", 
                        "text/plain": "  PostalCode                 0                 1               2     3     4  \\\n0        M3A        North York         Parkwoods            None  None  None   \n1        M4A        North York  Victoria Village            None  None  None   \n2        M5A  Downtown Toronto      Harbourfront     Regent Park  None  None   \n3        M6A        North York  Lawrence Heights  Lawrence Manor  None  None   \n4        M7A      Queen's Park      Queen's Park            None  None  None   \n\n      5     6     7     8  \n0  None  None  None  None  \n1  None  None  None  None  \n2  None  None  None  None  \n3  None  None  None  None  \n4  None  None  None  None  "
                    }, 
                    "output_type": "execute_result"
                }
            ], 
            "source": "data.reset_index(inplace= True)\ndata.head()"
        }, 
        {
            "execution_count": 17, 
            "cell_type": "code", 
            "metadata": {}, 
            "outputs": [
                {
                    "execution_count": 17, 
                    "metadata": {}, 
                    "data": {
                        "text/html": "<div>\n<style scoped>\n    .dataframe tbody tr th:only-of-type {\n        vertical-align: middle;\n    }\n\n    .dataframe tbody tr th {\n        vertical-align: top;\n    }\n\n    .dataframe thead th {\n        text-align: right;\n    }\n</style>\n<table border=\"1\" class=\"dataframe\">\n  <thead>\n    <tr style=\"text-align: right;\">\n      <th></th>\n      <th>PostalCode</th>\n      <th>Borough</th>\n      <th>1</th>\n      <th>2</th>\n      <th>3</th>\n      <th>4</th>\n      <th>5</th>\n      <th>6</th>\n      <th>7</th>\n      <th>8</th>\n    </tr>\n  </thead>\n  <tbody>\n    <tr>\n      <th>0</th>\n      <td>M3A</td>\n      <td>North York</td>\n      <td>Parkwoods</td>\n      <td>None</td>\n      <td>None</td>\n      <td>None</td>\n      <td>None</td>\n      <td>None</td>\n      <td>None</td>\n      <td>None</td>\n    </tr>\n    <tr>\n      <th>1</th>\n      <td>M4A</td>\n      <td>North York</td>\n      <td>Victoria Village</td>\n      <td>None</td>\n      <td>None</td>\n      <td>None</td>\n      <td>None</td>\n      <td>None</td>\n      <td>None</td>\n      <td>None</td>\n    </tr>\n    <tr>\n      <th>2</th>\n      <td>M5A</td>\n      <td>Downtown Toronto</td>\n      <td>Harbourfront</td>\n      <td>Regent Park</td>\n      <td>None</td>\n      <td>None</td>\n      <td>None</td>\n      <td>None</td>\n      <td>None</td>\n      <td>None</td>\n    </tr>\n    <tr>\n      <th>3</th>\n      <td>M6A</td>\n      <td>North York</td>\n      <td>Lawrence Heights</td>\n      <td>Lawrence Manor</td>\n      <td>None</td>\n      <td>None</td>\n      <td>None</td>\n      <td>None</td>\n      <td>None</td>\n      <td>None</td>\n    </tr>\n    <tr>\n      <th>4</th>\n      <td>M7A</td>\n      <td>Queen's Park</td>\n      <td>Queen's Park</td>\n      <td>None</td>\n      <td>None</td>\n      <td>None</td>\n      <td>None</td>\n      <td>None</td>\n      <td>None</td>\n      <td>None</td>\n    </tr>\n  </tbody>\n</table>\n</div>", 
                        "text/plain": "  PostalCode           Borough                 1               2     3     4  \\\n0        M3A        North York         Parkwoods            None  None  None   \n1        M4A        North York  Victoria Village            None  None  None   \n2        M5A  Downtown Toronto      Harbourfront     Regent Park  None  None   \n3        M6A        North York  Lawrence Heights  Lawrence Manor  None  None   \n4        M7A      Queen's Park      Queen's Park            None  None  None   \n\n      5     6     7     8  \n0  None  None  None  None  \n1  None  None  None  None  \n2  None  None  None  None  \n3  None  None  None  None  \n4  None  None  None  None  "
                    }, 
                    "output_type": "execute_result"
                }
            ], 
            "source": "data.columns.values[1] = 'Borough'#We need to drill down to the array, accessed with .values\ndata.head()"
        }, 
        {
            "execution_count": 18, 
            "cell_type": "code", 
            "metadata": {}, 
            "outputs": [
                {
                    "execution_count": 18, 
                    "metadata": {}, 
                    "data": {
                        "text/html": "<div>\n<style scoped>\n    .dataframe tbody tr th:only-of-type {\n        vertical-align: middle;\n    }\n\n    .dataframe tbody tr th {\n        vertical-align: top;\n    }\n\n    .dataframe thead th {\n        text-align: right;\n    }\n</style>\n<table border=\"1\" class=\"dataframe\">\n  <thead>\n    <tr style=\"text-align: right;\">\n      <th></th>\n      <th>Borough</th>\n    </tr>\n  </thead>\n  <tbody>\n    <tr>\n      <th>0</th>\n      <td>North York</td>\n    </tr>\n    <tr>\n      <th>1</th>\n      <td>North York</td>\n    </tr>\n    <tr>\n      <th>2</th>\n      <td>Downtown Toronto</td>\n    </tr>\n    <tr>\n      <th>3</th>\n      <td>North York</td>\n    </tr>\n    <tr>\n      <th>4</th>\n      <td>Queen's Park</td>\n    </tr>\n  </tbody>\n</table>\n</div>", 
                        "text/plain": "            Borough\n0        North York\n1        North York\n2  Downtown Toronto\n3        North York\n4      Queen's Park"
                    }, 
                    "output_type": "execute_result"
                }
            ], 
            "source": "data.columns = data.columns.tolist()\ndata[['Borough']].head()"
        }, 
        {
            "execution_count": null, 
            "cell_type": "code", 
            "metadata": {}, 
            "outputs": [], 
            "source": ""
        }
    ], 
    "metadata": {
        "kernelspec": {
            "display_name": "Python 3.6", 
            "name": "python3", 
            "language": "python"
        }, 
        "language_info": {
            "mimetype": "text/x-python", 
            "nbconvert_exporter": "python", 
            "version": "3.6.8", 
            "name": "python", 
            "file_extension": ".py", 
            "pygments_lexer": "ipython3", 
            "codemirror_mode": {
                "version": 3, 
                "name": "ipython"
            }
        }
    }, 
    "nbformat": 4
}