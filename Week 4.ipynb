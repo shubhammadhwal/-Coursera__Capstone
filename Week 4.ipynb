{
    "nbformat_minor": 1, 
    "cells": [
        {
            "source": "# RECOMMENDER SYSTEM", 
            "cell_type": "markdown", 
            "metadata": {
                "collapsed": true
            }
        }, 
        {
            "source": "### I'm building a restaurant recommender system as a part of IBM capstone project. The recommender system recommends restaurants based on the user's previous data, considering the likes and dislikes of the user.", 
            "cell_type": "markdown", 
            "metadata": {}
        }, 
        {
            "source": "## Background of the business problem:", 
            "cell_type": "markdown", 
            "metadata": {}
        }, 
        {
            "source": "### Toronto is the provincial capital of Ontario and the most populous city in Canada. Toronto is the fastest growing city in North America. Toronto is an international center of business, finance, arts, and culture, and is recognized as one of the most multicultural and cosmopolitan cities in the world. With so many people coming to Toronto, the need to help people find appropriate restaurants that serve at a reasonable cost cannot be overlooked. ", 
            "cell_type": "markdown", 
            "metadata": {}
        }, 
        {
            "source": "## Description of the problem:", 
            "cell_type": "markdown", 
            "metadata": {}
        }, 
        {
            "source": "### 1. Whzch restaurants are nearest to the user?\n### 2. What is the ranking of different restaurants with respect to users preferences?\n### 3. What types of restaurants are present in a particular area?\n### 4. Suggestions of similar restaurants present based on a preference to a particular food item.,\n### 5. What is the cost comparison between similar restaurants?\n### The recommender system recommends restaurants based on the user's previous data, considering the likes and dislikes of the user.", 
            "cell_type": "markdown", 
            "metadata": {}
        }, 
        {
            "source": "\n\n\n## Target Audience:\n### 1. All the people who wish to find suitable restaurants with respect to their preferences\n### 2. Owners of restaurants, as they would be able to analyze the rating of their restaurant with respect to other restaurants in Toronto.\n### 2. Budding Data Scientists, who want to implement some of the most used Exploratory Data Analysis techniques to obtain necessary data, analyze it, and, finally be able to tell a story out of it.\n", 
            "cell_type": "markdown", 
            "metadata": {}
        }, 
        {
            "execution_count": null, 
            "cell_type": "code", 
            "metadata": {}, 
            "outputs": [], 
            "source": ""
        }
    ], 
    "metadata": {
        "kernelspec": {
            "display_name": "Python 3.6", 
            "name": "python3", 
            "language": "python"
        }, 
        "language_info": {
            "mimetype": "text/x-python", 
            "nbconvert_exporter": "python", 
            "version": "3.6.8", 
            "name": "python", 
            "file_extension": ".py", 
            "pygments_lexer": "ipython3", 
            "codemirror_mode": {
                "version": 3, 
                "name": "ipython"
            }
        }
    }, 
    "nbformat": 4
}